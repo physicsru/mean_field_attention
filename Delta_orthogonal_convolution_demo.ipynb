{
  "nbformat": 4,
  "nbformat_minor": 0,
  "metadata": {
    "colab": {
      "name": "Delta-orthogonal convolution demo",
      "version": "0.3.2",
      "provenance": [],
      "collapsed_sections": [
        "yM4dNJo5vTNK"
      ]
    },
    "kernelspec": {
      "name": "python2",
      "display_name": "Python 2"
    },
    "accelerator": "GPU"
  },
  "cells": [
    {
      "cell_type": "markdown",
      "metadata": {
        "id": "yM4dNJo5vTNK",
        "colab_type": "text"
      },
      "source": [
        "##### Copyright 2018 Google LLC.\n",
        "\n",
        "Licensed under the Apache License, Version 2.0 (the \"License\");"
      ]
    },
    {
      "cell_type": "code",
      "metadata": {
        "id": "gXsmXsnSvSWg",
        "colab_type": "code",
        "colab": {}
      },
      "source": [
        "#@title Delta Orthogonal Convolution Tutorial\n",
        "# Licensed under the Apache License, Version 2.0 (the \"License\");\n",
        "# you may not use this file except in compliance with the License.\n",
        "# You may obtain a copy of the License at\n",
        "#\n",
        "# https://www.apache.org/licenses/LICENSE-2.0\n",
        "#\n",
        "# Unless required by applicable law or agreed to in writing, software\n",
        "# distributed under the License is distributed on an \"AS IS\" BASIS,\n",
        "# WITHOUT WARRANTIES OR CONDITIONS OF ANY KIND, either express or implied.\n",
        "# See the License for the specific language governing permissions and\n",
        "# limitations under the License."
      ],
      "execution_count": 0,
      "outputs": []
    },
    {
      "cell_type": "markdown",
      "metadata": {
        "id": "TgkHGgykhOgv",
        "colab_type": "text"
      },
      "source": [
        "# Initialization"
      ]
    },
    {
      "cell_type": "code",
      "metadata": {
        "id": "zkS604HdvdOc",
        "colab_type": "code",
        "outputId": "36f03d7a-c1b9-45d1-e10e-9ab1e5ca3b73",
        "colab": {
          "base_uri": "https://localhost:8080/",
          "height": 85
        }
      },
      "source": [
        "import matplotlib.pylab as plt\n",
        "import numpy as np\n",
        "import tensorflow as tf\n",
        "import warnings\n",
        "\n",
        "from scipy.integrate import quad, dblquad\n",
        "from tensorflow.examples.tutorials.mnist import input_data\n",
        "\n",
        "mnist = input_data.read_data_sets(\"MNIST_data/\", one_hot=True)"
      ],
      "execution_count": 0,
      "outputs": [
        {
          "output_type": "stream",
          "text": [
            "Extracting MNIST_data/train-images-idx3-ubyte.gz\n",
            "Extracting MNIST_data/train-labels-idx1-ubyte.gz\n",
            "Extracting MNIST_data/t10k-images-idx3-ubyte.gz\n",
            "Extracting MNIST_data/t10k-labels-idx1-ubyte.gz\n"
          ],
          "name": "stdout"
        }
      ]
    },
    {
      "cell_type": "markdown",
      "metadata": {
        "id": "AQDA6OyOK2mT",
        "colab_type": "text"
      },
      "source": [
        "## Helper functions and class for mean field calculations."
      ]
    },
    {
      "cell_type": "code",
      "metadata": {
        "id": "nVt1knDlyJrj",
        "colab_type": "code",
        "colab": {}
      },
      "source": [
        "def gauss_density(x):\n",
        "  return np.exp(-x**2/2)/np.sqrt(2*np.pi)\n",
        "\n",
        "def d_tanh(x):\n",
        "  \"\"\"Derivative of tanh.\"\"\"\n",
        "  return 1./ np.cosh(x)**2"
      ],
      "execution_count": 0,
      "outputs": []
    },
    {
      "cell_type": "code",
      "metadata": {
        "id": "z6Ps0zhZF2yT",
        "colab_type": "code",
        "colab": {}
      },
      "source": [
        "class MeanField(object):\n",
        "  def __init__(self, f, df):\n",
        "    \"\"\"\n",
        "    Args: \n",
        "      f: activation function\n",
        "      df: derivative of f. \n",
        "    \"\"\"\n",
        "    self.f = f\n",
        "    self.df = df\n",
        "  \n",
        "  def qmap_density(self, x, q):\n",
        "    \"\"\"Compute the density function of the q-map.\"\"\"\n",
        "    return (self.f(np.sqrt(q)*x)**2)* gauss_density(x)\n",
        "  \n",
        "  def chi_density(self, x, q):\n",
        "    return gauss_density(x) * (self.df(np.sqrt(q)*x)**2) \n",
        "  \n",
        "  def sw_sb(self, q, chi1):\n",
        "    \"\"\"Compute the critical line. Set chi1=1, return variances of weight and \n",
        "       bias on the critical line with qstar=q.\n",
        "    \"\"\"\n",
        "    big_val = 1e12\n",
        "    with warnings.catch_warnings():\n",
        "      warnings.simplefilter(\"ignore\") # silence underflow and overflow warning\n",
        "      sw = chi1/quad(self.chi_density, -np.inf, np.inf, args= (q))[0]\n",
        "      sb = q - sw * quad(self.qmap_density, -np.inf, np.inf, args= (q))[0]\n",
        "    return sw, sb"
      ],
      "execution_count": 0,
      "outputs": []
    },
    {
      "cell_type": "markdown",
      "metadata": {
        "id": "Dq87r6zkKzFF",
        "colab_type": "text"
      },
      "source": [
        "# Phase diagram"
      ]
    },
    {
      "cell_type": "code",
      "metadata": {
        "id": "7qANsoKoGFUF",
        "colab_type": "code",
        "outputId": "376ae514-91e5-4792-d62a-8ce8f20dca74",
        "colab": {
          "base_uri": "https://localhost:8080/",
          "height": 365
        }
      },
      "source": [
        "background = [255.0/255.0, 229/255.0, 204/255.0]\n",
        "fontsize=16\n",
        "\n",
        "mf = MeanField(np.tanh, d_tanh)\n",
        "n = 50\n",
        "qrange = np.linspace(1e-5, 2.25, n)\n",
        "\n",
        "sw = [mf.sw_sb(q, 1)[0] for q in qrange]\n",
        "sb = [mf.sw_sb(q, 1)[1] for q in qrange]\n",
        "\n",
        "\n",
        "plt.figure(figsize=(5, 5))\n",
        "plt.plot(sw, sb)\n",
        "plt.xlim(0.5, 3)\n",
        "plt.ylim(0, 0.25)\n",
        "plt.title('Phase diagram', fontsize=fontsize)\n",
        "plt.xlabel('$\\sigma_\\omega^2$', fontsize=fontsize)\n",
        "plt.ylabel('$\\sigma_b^2$', fontsize=fontsize)\n",
        "\n",
        "plt.gca().set_facecolor(background)\n",
        "plt.gcf().set_size_inches(plt.gcf().get_size_inches()[1], plt.gcf().get_size_inches()[1])\n"
      ],
      "execution_count": 0,
      "outputs": [
        {
          "output_type": "display_data",
          "data": {
            "image/png": "[encoded data removed]",
            "text/plain": [
              "<matplotlib.figure.Figure at 0x7f0bccbe4150>"
            ]
          },
          "metadata": {
            "tags": []
          }
        }
      ]
    },
    {
      "cell_type": "markdown",
      "metadata": {
        "id": "d6bOit_9hky-",
        "colab_type": "text"
      },
      "source": [
        "# Train Delta Orthogonal Network"
      ]
    },
    {
      "cell_type": "code",
      "metadata": {
        "id": "Ly8JGExPqG6b",
        "colab_type": "code",
        "colab": {}
      },
      "source": [
        "# DEPTH and C_SIZE are chosen to be small for a fast running demo. You will want\n",
        "# to increase both values for most use cases.\n",
        "# Further note: this will run *much faster* if you choose a runtime with a GPU\n",
        "# accelerator.\n",
        "DEPTH = 16 # number of layers.\n",
        "C_SIZE = 32 # channel size.\n",
        "K_SIZE = 3 # kernel size\n",
        "LEARNING_RATE = 1e-2\n",
        "MOMENTUM = 0.95\n",
        "phi = tf.tanh # non-linearity\n",
        "\n",
        "# variances of weight and bias. \n",
        "# To obtain critical values of the variances of the weights and biases,\n",
        "# see compute mean field below.  \n",
        "mf = MeanField(np.tanh, d_tanh)\n",
        "qstar = 1./DEPTH\n",
        "W_VAR, B_VAR = mf.sw_sb(qstar, 1)\n",
        "\n",
        "\n",
        "def circular_padding(input_, width, kernel_size):\n",
        "  \"\"\"Padding input_ for computing circular convolution.\"\"\"\n",
        "  begin = kernel_size // 2\n",
        "  end = kernel_size - 1 - begin\n",
        "  tmp_up = tf.slice(input_, [0, width - begin, 0, 0], [-1, begin, width, -1])\n",
        "  tmp_down = tf.slice(input_, [0, 0, 0, 0], [-1, end, width, -1])\n",
        "  tmp = tf.concat([tmp_up, input_, tmp_down], 1)\n",
        "  new_width = width + kernel_size - 1\n",
        "  tmp_left = tf.slice(tmp, [0, 0, width - begin, 0], [-1, new_width, begin, -1])\n",
        "  tmp_right = tf.slice(tmp, [0, 0, 0, 0], [-1, new_width, end, -1])\n",
        "  return  tf.concat([tmp_left, tmp, tmp_right], 2)\n",
        "\n",
        "def conv2d(x, w, strides=1, padding='SAME'):\n",
        "  return tf.nn.conv2d(x, w, strides=[1, strides, strides, 1], padding=padding)\n",
        "\n",
        "def get_weight(shape, std=1., name=None):\n",
        "  return tf.Variable(tf.random_normal(shape, mean=0, stddev=std), name=name)\n",
        "\n",
        "def get_orthogonal_weight(name, shape, gain=1.):\n",
        "  # Can also use tf.contrib.framework.convolutional_orthogonal_2d\n",
        "  return tf.get_variable(name, shape=shape,\n",
        "     initializer=tf.contrib.framework.convolutional_delta_orthogonal(gain=gain))\n",
        "\n",
        "def conv_model(x):\n",
        "  \"\"\"Convolutional layers. Ouput logits. \"\"\"\n",
        "  z = tf.reshape(x, [-1,28,28,1])\n",
        "  # Increase the channel size to C_SIZE.\n",
        "  std = np.sqrt(W_VAR / (K_SIZE**2 * 1))\n",
        "  kernel = get_weight([K_SIZE, K_SIZE, 1, C_SIZE], std=std, name='kernel_0')\n",
        "  bias = get_weight([C_SIZE], std=np.sqrt(B_VAR), name='bias_0')\n",
        "  h = conv2d(z, kernel, strides=1, padding='SAME') + bias\n",
        "  z = phi(h)\n",
        "  \n",
        "  # Reducing spacial dimension to 7 * 7; applying conv with stride=2 twice.\n",
        "  std = np.sqrt(W_VAR / (K_SIZE**2 * C_SIZE))\n",
        "  shape = [K_SIZE, K_SIZE, C_SIZE, C_SIZE]\n",
        "  for j in range(2):\n",
        "    kernel = get_weight(shape, std=std, name='reduction_{}_kernel'.format(j))\n",
        "    bias = get_weight([C_SIZE], std=np.sqrt(B_VAR),\n",
        "                      name='reduction_{}_bias'.format(j))\n",
        "    h = conv2d(z, kernel, strides=2) + bias\n",
        "    z = phi(h)\n",
        "  new_width = 7 # width of the current image after dimension reduction. \n",
        "  \n",
        "  # A deep convolution block with depth=DEPTH.\n",
        "  std = np.sqrt(W_VAR)\n",
        "  for j in range(DEPTH):\n",
        "    name = 'block_conv_{}'.format(j)\n",
        "    kernel_name, bias_name = name + 'kernel', name + 'bias'\n",
        "    kernel = get_orthogonal_weight(kernel_name, shape, gain=std)\n",
        "    bias = get_weight([C_SIZE], std=np.sqrt(B_VAR), name=bias_name)\n",
        "    z_pad = circular_padding(z, new_width, K_SIZE)\n",
        "    h = conv2d(z_pad, kernel, padding='VALID') + bias\n",
        "    z = phi(h)\n",
        "  z_ave = tf.reduce_mean(z, [1, 2])\n",
        "  logit_W = get_weight([C_SIZE, 10], std=np.sqrt(1./(C_SIZE)))\n",
        "  logit_b = get_weight([10], std=0.)\n",
        "  return tf.matmul(z_ave, logit_W) + logit_b\n",
        "\n",
        "def loss(logits, labels):\n",
        "  return tf.reduce_mean(\n",
        "      tf.nn.softmax_cross_entropy_with_logits_v2(logits=logits, labels=labels))\n",
        "\n",
        "def train_op(loss_, learning_rate, global_step):\n",
        "  with tf.control_dependencies([tf.assign(global_step, global_step + 1)]):\n",
        "    return tf.train.MomentumOptimizer(learning_rate, MOMENTUM).minimize(loss_)\n",
        "\n",
        "def accuracy(logits, labels):\n",
        "  return tf.reduce_mean(tf.cast(tf.equal(tf.argmax(logits, 1),\n",
        "                                         tf.argmax(labels, 1)), \n",
        "                                tf.float32))\n",
        "\n",
        "def run_model(num_steps=1000):\n",
        "  tf.reset_default_graph()\n",
        "  accuracy_log = []\n",
        "  loss_log = []\n",
        "  x = tf.placeholder(tf.float32, shape=[None, 784])\n",
        "  y_ = tf.placeholder(tf.float32, shape=[None, 10])\n",
        "  global_step = tf.train.get_or_create_global_step()\n",
        "  logits = conv_model(x)\n",
        "  acc, loss_ = accuracy(logits, y_), loss(logits, y_)\n",
        "  training = train_op(loss_, LEARNING_RATE, global_step)\n",
        "  with tf.Session() as sess:\n",
        "    sess.run(tf.global_variables_initializer())\n",
        "    for i in range(num_steps):\n",
        "      batch_xs, batch_ys = mnist.train.next_batch(100)\n",
        "      _, acc_value, loss_value, g_step = sess.run(\n",
        "          [training, acc, loss_, global_step], \n",
        "          feed_dict={x:batch_xs, y_:batch_ys})\n",
        "      accuracy_log.append(acc_value)\n",
        "      loss_log.append(loss_value)\n",
        "      if i % (num_steps/20) == 0 or i == num_steps-1:\n",
        "        print('Step: %5d Accuracy: %.2f Loss: %g'%(g_step, acc_value, loss_value))\n",
        "  return accuracy_log, loss_log\n"
      ],
      "execution_count": 0,
      "outputs": []
    },
    {
      "cell_type": "code",
      "metadata": {
        "id": "mi0I2nqPK1pW",
        "colab_type": "code",
        "outputId": "b25e5bf4-8ef7-4a9d-f13b-ff23437aa7ca",
        "colab": {
          "base_uri": "https://localhost:8080/",
          "height": 374
        }
      },
      "source": [
        "accuracy_log, loss_log = run_model()"
      ],
      "execution_count": 0,
      "outputs": [
        {
          "output_type": "stream",
          "text": [
            "Step:     0 Accuracy: 0.07 Loss: 2.30505\n",
            "Step:    51 Accuracy: 0.26 Loss: 1.97781\n",
            "Step:   100 Accuracy: 0.24 Loss: 1.85622\n",
            "Step:   150 Accuracy: 0.38 Loss: 1.48279\n",
            "Step:   200 Accuracy: 0.51 Loss: 1.39135\n",
            "Step:   250 Accuracy: 0.46 Loss: 1.28701\n",
            "Step:   300 Accuracy: 0.50 Loss: 1.27826\n",
            "Step:   350 Accuracy: 0.61 Loss: 1.11567\n",
            "Step:   400 Accuracy: 0.56 Loss: 0.869806\n",
            "Step:   450 Accuracy: 0.80 Loss: 0.696834\n",
            "Step:   500 Accuracy: 0.71 Loss: 0.76464\n",
            "Step:   550 Accuracy: 0.89 Loss: 0.48842\n",
            "Step:   600 Accuracy: 0.89 Loss: 0.536567\n",
            "Step:   651 Accuracy: 0.92 Loss: 0.291886\n",
            "Step:   700 Accuracy: 0.97 Loss: 0.152038\n",
            "Step:   750 Accuracy: 0.93 Loss: 0.252104\n",
            "Step:   800 Accuracy: 0.95 Loss: 0.204787\n",
            "Step:   850 Accuracy: 0.93 Loss: 0.214044\n",
            "Step:   900 Accuracy: 0.97 Loss: 0.14412\n",
            "Step:   950 Accuracy: 0.98 Loss: 0.144498\n",
            "Step:   999 Accuracy: 0.93 Loss: 0.182756\n"
          ],
          "name": "stdout"
        }
      ]
    },
    {
      "cell_type": "code",
      "metadata": {
        "id": "Fnls4axFv5TZ",
        "colab_type": "code",
        "outputId": "d2f95d4e-0861-40b7-8b7c-1be25694b31e",
        "colab": {
          "base_uri": "https://localhost:8080/",
          "height": 334
        }
      },
      "source": [
        "background = [255.0/255.0, 229/255.0, 204/255.0]\n",
        "\n",
        "plt.figure(figsize=(12, 5))\n",
        "plt.subplot(1,2,1)\n",
        "plt.plot(accuracy_log)\n",
        "plt.xlabel('Training step')\n",
        "plt.ylabel('Training accuracy')\n",
        "plt.gca().set_facecolor(background)\n",
        "\n",
        "plt.subplot(1,2,2)\n",
        "plt.plot(loss_log)\n",
        "plt.xlabel('Training step')\n",
        "plt.ylabel('Training loss')\n",
        "plt.gca().set_facecolor(background)"
      ],
      "execution_count": 0,
      "outputs": [
        {
          "output_type": "display_data",
          "data": {
            "image/png": "[encoded data removed]",
            "text/plain": [
              "<matplotlib.figure.Figure at 0x7f0b82d1b3d0>"
            ]
          },
          "metadata": {
            "tags": []
          }
        }
      ]
    },
    {
      "cell_type": "code",
      "metadata": {
        "id": "vfV9vle55IDU",
        "colab_type": "code",
        "colab": {}
      },
      "source": [
        ""
      ],
      "execution_count": 0,
      "outputs": []
    }
  ]
}